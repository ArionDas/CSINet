{
 "cells": [
  {
   "cell_type": "code",
   "execution_count": 1,
   "metadata": {},
   "outputs": [],
   "source": [
    "import numpy as np\n",
    "import pandas as pd"
   ]
  },
  {
   "cell_type": "code",
   "execution_count": 2,
   "metadata": {},
   "outputs": [],
   "source": [
    "from utils.data_loader import DataLoader"
   ]
  },
  {
   "cell_type": "code",
   "execution_count": 5,
   "metadata": {},
   "outputs": [],
   "source": [
    "df = DataLoader.load_csv_data(dataset_type='train', lang='en')"
   ]
  },
  {
   "cell_type": "code",
   "execution_count": 6,
   "metadata": {},
   "outputs": [
    {
     "data": {
      "text/html": [
       "<div>\n",
       "<style scoped>\n",
       "    .dataframe tbody tr th:only-of-type {\n",
       "        vertical-align: middle;\n",
       "    }\n",
       "\n",
       "    .dataframe tbody tr th {\n",
       "        vertical-align: top;\n",
       "    }\n",
       "\n",
       "    .dataframe thead th {\n",
       "        text-align: right;\n",
       "    }\n",
       "</style>\n",
       "<table border=\"1\" class=\"dataframe\">\n",
       "  <thead>\n",
       "    <tr style=\"text-align: right;\">\n",
       "      <th></th>\n",
       "      <th>index</th>\n",
       "      <th>claims</th>\n",
       "      <th>text_tokens</th>\n",
       "      <th>claim_idx</th>\n",
       "      <th>claim_vector</th>\n",
       "    </tr>\n",
       "  </thead>\n",
       "  <tbody>\n",
       "    <tr>\n",
       "      <th>0</th>\n",
       "      <td>500</td>\n",
       "      <td>[]</td>\n",
       "      <td>['#VAERS', '17y', '♂', '️', '#Pfizer', '#Covid...</td>\n",
       "      <td>set()</td>\n",
       "      <td>[0, 0, 0, 0, 0, 0, 0, 0, 0, 0, 0, 0, 0, 0, 0, ...</td>\n",
       "    </tr>\n",
       "    <tr>\n",
       "      <th>1</th>\n",
       "      <td>501</td>\n",
       "      <td>[{'start': 0, 'end': 29}, {'start': 33, 'end':...</td>\n",
       "      <td>[\"We've\", 'truly', 'come', 'a', 'long', 'way',...</td>\n",
       "      <td>{0, 1, 2, 3, 4, 5, 6, 7, 8, 9, 10, 11, 12, 13,...</td>\n",
       "      <td>[1, 1, 1, 1, 1, 1, 1, 1, 1, 1, 1, 1, 1, 1, 1, ...</td>\n",
       "    </tr>\n",
       "    <tr>\n",
       "      <th>2</th>\n",
       "      <td>502</td>\n",
       "      <td>[{'start': 8, 'end': 16}]</td>\n",
       "      <td>['Fuck', 'that', '.', 'Its', 'not', 'faux', 'o...</td>\n",
       "      <td>{8, 9, 10, 11, 12, 13, 14, 15}</td>\n",
       "      <td>[0, 0, 0, 0, 0, 0, 0, 0, 1, 1, 1, 1, 1, 1, 1, 1]</td>\n",
       "    </tr>\n",
       "    <tr>\n",
       "      <th>3</th>\n",
       "      <td>503</td>\n",
       "      <td>[{'start': 7, 'end': 21}]</td>\n",
       "      <td>['@U55750420', 'Which', '...', 'makes', 'no', ...</td>\n",
       "      <td>{7, 8, 9, 10, 11, 12, 13, 14, 15, 16, 17, 18, ...</td>\n",
       "      <td>[0, 0, 0, 0, 0, 0, 0, 1, 1, 1, 1, 1, 1, 1, 1, ...</td>\n",
       "    </tr>\n",
       "    <tr>\n",
       "      <th>4</th>\n",
       "      <td>504</td>\n",
       "      <td>[{'start': 8, 'end': 18}, {'start': 23, 'end':...</td>\n",
       "      <td>['Fact', 'or', 'Fiction', ',', 'you', 'decide'...</td>\n",
       "      <td>{8, 9, 10, 11, 12, 13, 14, 15, 16, 17, 23, 24,...</td>\n",
       "      <td>[0, 0, 0, 0, 0, 0, 0, 0, 1, 1, 1, 1, 1, 1, 1, ...</td>\n",
       "    </tr>\n",
       "  </tbody>\n",
       "</table>\n",
       "</div>"
      ],
      "text/plain": [
       "   index                                             claims  \\\n",
       "0    500                                                 []   \n",
       "1    501  [{'start': 0, 'end': 29}, {'start': 33, 'end':...   \n",
       "2    502                          [{'start': 8, 'end': 16}]   \n",
       "3    503                          [{'start': 7, 'end': 21}]   \n",
       "4    504  [{'start': 8, 'end': 18}, {'start': 23, 'end':...   \n",
       "\n",
       "                                         text_tokens  \\\n",
       "0  ['#VAERS', '17y', '♂', '️', '#Pfizer', '#Covid...   \n",
       "1  [\"We've\", 'truly', 'come', 'a', 'long', 'way',...   \n",
       "2  ['Fuck', 'that', '.', 'Its', 'not', 'faux', 'o...   \n",
       "3  ['@U55750420', 'Which', '...', 'makes', 'no', ...   \n",
       "4  ['Fact', 'or', 'Fiction', ',', 'you', 'decide'...   \n",
       "\n",
       "                                           claim_idx  \\\n",
       "0                                              set()   \n",
       "1  {0, 1, 2, 3, 4, 5, 6, 7, 8, 9, 10, 11, 12, 13,...   \n",
       "2                     {8, 9, 10, 11, 12, 13, 14, 15}   \n",
       "3  {7, 8, 9, 10, 11, 12, 13, 14, 15, 16, 17, 18, ...   \n",
       "4  {8, 9, 10, 11, 12, 13, 14, 15, 16, 17, 23, 24,...   \n",
       "\n",
       "                                        claim_vector  \n",
       "0  [0, 0, 0, 0, 0, 0, 0, 0, 0, 0, 0, 0, 0, 0, 0, ...  \n",
       "1  [1, 1, 1, 1, 1, 1, 1, 1, 1, 1, 1, 1, 1, 1, 1, ...  \n",
       "2   [0, 0, 0, 0, 0, 0, 0, 0, 1, 1, 1, 1, 1, 1, 1, 1]  \n",
       "3  [0, 0, 0, 0, 0, 0, 0, 1, 1, 1, 1, 1, 1, 1, 1, ...  \n",
       "4  [0, 0, 0, 0, 0, 0, 0, 0, 1, 1, 1, 1, 1, 1, 1, ...  "
      ]
     },
     "execution_count": 6,
     "metadata": {},
     "output_type": "execute_result"
    }
   ],
   "source": [
    "df.head()"
   ]
  },
  {
   "cell_type": "code",
   "execution_count": null,
   "metadata": {},
   "outputs": [],
   "source": []
  }
 ],
 "metadata": {
  "kernelspec": {
   "display_name": ".venv",
   "language": "python",
   "name": "python3"
  },
  "language_info": {
   "codemirror_mode": {
    "name": "ipython",
    "version": 3
   },
   "file_extension": ".py",
   "mimetype": "text/x-python",
   "name": "python",
   "nbconvert_exporter": "python",
   "pygments_lexer": "ipython3",
   "version": "3.11.7"
  }
 },
 "nbformat": 4,
 "nbformat_minor": 2
}
